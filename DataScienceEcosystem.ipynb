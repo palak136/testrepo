{
 "cells": [
  {
   "cell_type": "markdown",
   "id": "7346dc25-c3b6-40ee-9f08-547b59f3f020",
   "metadata": {
    "tags": []
   },
   "source": [
    "# Data Science Tools and Ecosystem"
   ]
  },
  {
   "cell_type": "markdown",
   "id": "cc4e7119-0bd7-4cc4-9858-b1479cd19e90",
   "metadata": {},
   "source": [
    "## Introduction:\n",
    "We have summarized Data Science Tools and Ecosystems in this notebook."
   ]
  },
  {
   "cell_type": "markdown",
   "id": "8326e656-f9e1-42c1-bfe5-d7ae961dfb91",
   "metadata": {},
   "source": [
    "**Objectives:**\n",
    "- Create and run Markdown cells and format the text by using different headers or bold or italic options\n",
    "- List popular languages used by Data Scientists using ordered lists\n",
    "- List common libraries used by Data Scientists using ordered lists\n",
    "- Create a table containing open source tools used in Data Science\n",
    "- Perform Python operations and execute them"
   ]
  },
  {
   "cell_type": "markdown",
   "id": "9d54f365-a4aa-4d59-9925-4cb588fb5aa5",
   "metadata": {},
   "source": [
    "### Some of the popular languages that Data Scientists use are:\n",
    "1. Python\n",
    "2. JavaScript\n",
    "3. Scala\n",
    "4. R\n",
    "5. SQL\n",
    "6. Julia"
   ]
  },
  {
   "cell_type": "markdown",
   "id": "54ad5d73-afea-464e-86ed-f1b8b3049851",
   "metadata": {},
   "source": [
    "### Some of the commonly used libraries used by Data Scientists include:\n",
    "1. NumPy\n",
    "2. Keras\n",
    "3. Panda\n",
    "4. PyTorch\n",
    "5. SciPy\n",
    "6. Scikit-Learn\n",
    "7. Tensor Flow\n",
    "8. Matplotlib"
   ]
  },
  {
   "cell_type": "markdown",
   "id": "ca2ae66d-cecd-4d43-978c-8372e8aa7316",
   "metadata": {
    "tags": []
   },
   "source": [
    "### Three development environment open source tools used in data science are:\n",
    "|Data Science Tools|\n",
    "|------------------|\n",
    "|RStudio|\n",
    "|Apache Spark|\n",
    "|TensorFlow|"
   ]
  },
  {
   "cell_type": "markdown",
   "id": "ebc534ee-016f-4611-b11e-641bf56c926d",
   "metadata": {},
   "source": [
    "### Below are a few examples of evaluating arithmetic expressions in Python:\n",
    "1. Addition: print(2+3)\n",
    "2. Subtraction: print(5-3)\n",
    "3. Multiplication: print(2*5)\n",
    "4. Division: print(9/3)"
   ]
  },
  {
   "cell_type": "code",
   "execution_count": 3,
   "id": "a228c13f-fd58-4f43-a857-805681438981",
   "metadata": {
    "tags": []
   },
   "outputs": [
    {
     "name": "stdout",
     "output_type": "stream",
     "text": [
      "Addition:  5\n",
      "Subtraction:  2\n",
      "Multiplication:  10\n",
      "Division:  3.0\n"
     ]
    }
   ],
   "source": [
    "print(\"Addition: \",(2+3))\n",
    "print(\"Subtraction: \",(5-3))\n",
    "print(\"Multiplication: \",(2*5))\n",
    "print(\"Division: \",(9/3))"
   ]
  },
  {
   "cell_type": "code",
   "execution_count": 4,
   "id": "99f0f067-dfe1-4c41-9cd4-127fc3bb9232",
   "metadata": {
    "tags": []
   },
   "outputs": [
    {
     "name": "stdout",
     "output_type": "stream",
     "text": [
      "17\n"
     ]
    }
   ],
   "source": [
    "#This a simple arithmetic expression to mutiply then add integers\n",
    "a= (3*4)+5\n",
    "print(a)"
   ]
  },
  {
   "cell_type": "code",
   "execution_count": 5,
   "id": "1c65723b-8dd7-40c7-80dd-6eadabe72ddb",
   "metadata": {
    "tags": []
   },
   "outputs": [
    {
     "name": "stdout",
     "output_type": "stream",
     "text": [
      "200 minutes =  3.3333333333333335  hours\n"
     ]
    }
   ],
   "source": [
    "#This will convert 200 minutes to hours by diving by 60 since 1 hour has 60 minutes\n",
    "h=200/60\n",
    "print(\"200 minutes = \",h,\" hours\")"
   ]
  },
  {
   "cell_type": "markdown",
   "id": "5e2af367-e3fb-48dc-8903-dc43b2d59584",
   "metadata": {},
   "source": [
    "## Author\n",
    "Palak Gada"
   ]
  },
  {
   "cell_type": "code",
   "execution_count": null,
   "id": "6d9ea631-99ab-46de-9bb2-7da916acdfa7",
   "metadata": {},
   "outputs": [],
   "source": []
  }
 ],
 "metadata": {
  "kernelspec": {
   "display_name": "Python",
   "language": "python",
   "name": "conda-env-python-py"
  },
  "language_info": {
   "codemirror_mode": {
    "name": "ipython",
    "version": 3
   },
   "file_extension": ".py",
   "mimetype": "text/x-python",
   "name": "python",
   "nbconvert_exporter": "python",
   "pygments_lexer": "ipython3",
   "version": "3.7.12"
  }
 },
 "nbformat": 4,
 "nbformat_minor": 5
}
